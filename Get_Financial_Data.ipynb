{
  "nbformat": 4,
  "nbformat_minor": 0,
  "metadata": {
    "colab": {
      "name": "Get Financial Data.ipynb",
      "provenance": [],
      "authorship_tag": "ABX9TyOv0HklPopj346Sh9zoMH6x",
      "include_colab_link": true
    },
    "kernelspec": {
      "display_name": "Python 3",
      "name": "python3"
    },
    "language_info": {
      "name": "python"
    }
  },
  "cells": [
    {
      "cell_type": "markdown",
      "metadata": {
        "id": "view-in-github",
        "colab_type": "text"
      },
      "source": [
        "<a href=\"https://colab.research.google.com/github/timbyles/QuantDashboard/blob/main/Get_Financial_Data.ipynb\" target=\"_parent\"><img src=\"https://colab.research.google.com/assets/colab-badge.svg\" alt=\"Open In Colab\"/></a>"
      ]
    },
    {
      "cell_type": "code",
      "metadata": {
        "id": "0YSDvAQWE4EC"
      },
      "source": [
        "pip install yahoofinancials\n"
      ],
      "execution_count": null,
      "outputs": []
    },
    {
      "cell_type": "code",
      "metadata": {
        "id": "7eEI4-jsD37t"
      },
      "source": [
        "import pandas as pd\n",
        "import concurrent.futures as cf\n",
        "import time\n",
        "import ast\n",
        "from yahoofinancials import YahooFinancials"
      ],
      "execution_count": null,
      "outputs": []
    },
    {
      "cell_type": "code",
      "metadata": {
        "id": "CL1gozlLNg98"
      },
      "source": [
        "urlSymbols = 'https://raw.githubusercontent.com/timbyles/ASX-Cointegration/main/ASX300.csv'\n",
        "stockDF = pd.read_csv(urlSymbols)\n",
        "\n",
        "balanceSheet = {}\n",
        "incomeStatement = {}\n",
        "cashStatement = {}"
      ],
      "execution_count": null,
      "outputs": []
    },
    {
      "cell_type": "code",
      "metadata": {
        "id": "kxs6wMVbDySl"
      },
      "source": [
        "# No Multithreading\n",
        "\n",
        "stockList = ['A2M.AX', 'WOW.AX'] # Testing 2 instruments\n",
        "\n",
        "start = time.time()\n",
        "\n",
        "for stock in stockList:\n",
        "  print(stock)\n",
        "  yahoo_financials = YahooFinancials(stock)\n",
        "  balance_sheet_data = yahoo_financials.get_financial_stmts('annual', 'balance')\n",
        "  income_statement_data = yahoo_financials.get_financial_stmts('annual', 'income')\n",
        "  cash_statement_data = yahoo_financials.get_financial_stmts('annual', 'cash')\n",
        "\n",
        "  balanceSheet[stock] = balance_sheet_data['balanceSheetHistory'][stock]\n",
        "  incomeStatement[stock] = income_statement_data['incomeStatementHistory'][stock]\n",
        "  cashStatement[stock] = cash_statement_data['cashflowStatementHistory'][stock]\n",
        "\n",
        "print(balanceSheet)\n",
        "\n",
        "end = time.time()\n",
        "\n",
        "totalTime = end - start  # Time to pull API data for 2 insturments = 42 seconds. Projected time = 42*150 = 6300\n",
        "print(totalTime)\n"
      ],
      "execution_count": null,
      "outputs": []
    },
    {
      "cell_type": "code",
      "metadata": {
        "id": "ALifT78CEZ_L"
      },
      "source": [
        "# Multithreading* GIL vs Multiprocessing\n",
        "\n",
        "stockList = stockDF['Code'].values.tolist()\n",
        "stockList = [stock + '.AX' for stock in stockList]\n",
        "\n",
        "def retrieve_stock_data(stock):\n",
        "    try:\n",
        "        print(stock)\n",
        "        yahoo_financials = YahooFinancials(stock)\n",
        "        balance_sheet_data = yahoo_financials.get_financial_stmts('annual', 'balance')\n",
        "        income_statement_data = yahoo_financials.get_financial_stmts('annual', 'income')\n",
        "        cash_statement_data = yahoo_financials.get_financial_stmts('annual', 'cash')\n",
        "\n",
        "        balanceSheet[stock] = balance_sheet_data['balanceSheetHistory'][stock]\n",
        "        incomeStatement[stock] = income_statement_data['incomeStatementHistory'][stock]\n",
        "        cashStatement[stock] = cash_statement_data['cashflowStatementHistory'][stock]\n",
        "\n",
        "    except:\n",
        "        print('Error')\n",
        "\n",
        "start = time.time()\n",
        "executor = cf.ThreadPoolExecutor(16)\n",
        "futures = [executor.submit(retrieve_stock_data, stock) for stock in stockList]\n",
        "cf.wait(futures)\n",
        "end = time.time()\n",
        "\n",
        "totalTime = end - start  # Time to pull API data for 300 insturments = Approx. 400 seconds\n",
        "print(totalTime)\n",
        "\n",
        "balanceSheet"
      ],
      "execution_count": null,
      "outputs": []
    },
    {
      "cell_type": "code",
      "metadata": {
        "id": "z4ohtCqVymXN"
      },
      "source": [
        "with open('balanceSheet_ASX300.txt', 'w') as output:\n",
        "  output.write(str(balanceSheet))\n",
        "with open('incomeStatement_ASX300.txt', 'w') as output:\n",
        "  output.write(str(incomeStatement))\n",
        "with open('cashStatement_ASX300.txt', 'w') as output:\n",
        "  output.write(str(cashStatement))"
      ],
      "execution_count": null,
      "outputs": []
    },
    {
      "cell_type": "code",
      "metadata": {
        "id": "GKGpfXe4QlZ0"
      },
      "source": [
        "with open('balanceSheet_ASX300.txt', 'r') as input:\n",
        "  balanceSheet = ast.literal_eval(input.read())\n",
        "\n",
        "with open('cashStatement_ASX300.txt', 'r') as input:\n",
        "  cashStatement = ast.literal_eval(input.read())\n",
        "\n",
        "with open('incomeStatement_ASX300.txt', 'r') as input:\n",
        "  incomeStatement = ast.literal_eval(input.read())"
      ],
      "execution_count": null,
      "outputs": []
    },
    {
      "cell_type": "code",
      "metadata": {
        "id": "6csk6K5rFH4V"
      },
      "source": [
        ""
      ],
      "execution_count": null,
      "outputs": []
    }
  ]
}